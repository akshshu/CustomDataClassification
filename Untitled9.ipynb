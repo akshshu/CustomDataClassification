{
  "nbformat": 4,
  "nbformat_minor": 0,
  "metadata": {
    "colab": {
      "name": "Untitled9.ipynb",
      "provenance": [],
      "authorship_tag": "ABX9TyPpKU2QeBcuigw0pcbR/kBO",
      "include_colab_link": true
    },
    "kernelspec": {
      "name": "python3",
      "display_name": "Python 3"
    },
    "language_info": {
      "name": "python"
    }
  },
  "cells": [
    {
      "cell_type": "markdown",
      "metadata": {
        "id": "view-in-github",
        "colab_type": "text"
      },
      "source": [
        "<a href=\"https://colab.research.google.com/github/akshshu/CustomDataClassification/blob/master/Untitled9.ipynb\" target=\"_parent\"><img src=\"https://colab.research.google.com/assets/colab-badge.svg\" alt=\"Open In Colab\"/></a>"
      ]
    },
    {
      "cell_type": "code",
      "metadata": {
        "id": "-NoEfw5zoNWo"
      },
      "source": [
        "from google.colab import drive\n",
        "\n",
        "drive.mount(\"/content/gdrive\")"
      ],
      "execution_count": null,
      "outputs": []
    },
    {
      "cell_type": "code",
      "metadata": {
        "id": "mZnZqIJ3oasy"
      },
      "source": [
        "from tensorflow.keras.preprocessing.image import ImageDataGenerator\n",
        "from tensorflow.keras.preprocessing import image\n",
        "import tensorflow as tf\n",
        "import matplotlib.pyplot as plt\n",
        "import cv2 \n",
        "import os\n",
        "import numpy as np\n"
      ],
      "execution_count": null,
      "outputs": []
    },
    {
      "cell_type": "code",
      "metadata": {
        "id": "fA_YT6Exob4W"
      },
      "source": [
        "train = ImageDataGenerator(rescale=1/255)\n",
        "validation=ImageDataGenerator(rescale=1/255)"
      ],
      "execution_count": null,
      "outputs": []
    },
    {
      "cell_type": "code",
      "metadata": {
        "id": "uWJ7uzN6ognM"
      },
      "source": [
        "!rmdir /content/gdrive/MyDrive/customDataset/.ipynb_checkpoints\n"
      ],
      "execution_count": null,
      "outputs": []
    },
    {
      "cell_type": "code",
      "metadata": {
        "id": "B9ySx5wjodi3"
      },
      "source": [
        "train_dataset= train.flow_from_directory(\"/content/gdrive/MyDrive/customDataset\",target_size=(299,299),batch_size=8,class_mode='binary')\n",
        "validation_dataset= validation.flow_from_directory(\"/content/gdrive/MyDrive/customValid\",target_size=(299,299),batch_size=8,class_mode='binary')"
      ],
      "execution_count": null,
      "outputs": []
    },
    {
      "cell_type": "code",
      "metadata": {
        "id": "s2wbezYoolu-"
      },
      "source": [
        "validation_dataset.class_indices"
      ],
      "execution_count": null,
      "outputs": []
    },
    {
      "cell_type": "code",
      "metadata": {
        "id": "64dx7B7lonub"
      },
      "source": [
        "model=tf.keras.models.Sequential([tf.keras.layers.Conv2D(16,(4,4),activation='relu',input_shape=(299,299,3)),\n",
        "                                  tf.keras.layers.AveragePooling2D(4,4),\n",
        "                                  tf.keras.layers.Conv2D(32,(4,4),activation='relu'),\n",
        "                                  tf.keras.layers.AveragePooling2D(4,4),\n",
        "                                  tf.keras.layers.Conv2D(64,(4,4),activation='relu'),\n",
        "                                  tf.keras.layers.AveragePooling2D(4,4),\n",
        "                                  tf.keras.layers.Flatten(),\n",
        "                                  tf.keras.layers.Dense(256,activation='relu'),\n",
        "                                  tf.keras.layers.Dense(1,activation='sigmoid')\n",
        "])"
      ],
      "execution_count": null,
      "outputs": []
    },
    {
      "cell_type": "code",
      "metadata": {
        "id": "oPcRibjtopWR"
      },
      "source": [
        "model.compile(loss= 'binary_crossentropy',\n",
        "              optimizer = tf.keras.optimizers.Adam(learning_rate=0.001),\n",
        "              metrics=['accuracy'])"
      ],
      "execution_count": null,
      "outputs": []
    },
    {
      "cell_type": "code",
      "metadata": {
        "id": "CaSTYjWWorAg"
      },
      "source": [
        "model_fit=model.fit(train_dataset,\n",
        "                    steps_per_epoch=8,\n",
        "                    epochs=10,\n",
        "                    validation_data=validation_dataset)"
      ],
      "execution_count": null,
      "outputs": []
    },
    {
      "cell_type": "code",
      "metadata": {
        "id": "vD86XeAoosst"
      },
      "source": [
        "test_path='/content/gdrive/MyDrive/customTest/patched'\n",
        "totalCount=0;\n",
        "patched=0\n",
        "for i in os.listdir(test_path):\n",
        "  img=image.load_img(test_path+'//'+i,target_size=(299,299))\n",
        "  plt.imshow(img)\n",
        "  # plt.show()\n",
        "  x=image.img_to_array(img)\n",
        "  x=np.expand_dims(x,axis=0)\n",
        "  images=np.vstack([x])\n",
        "  vl=model.predict(images)\n",
        "  if(vl==1):\n",
        "    patched+=1\n",
        "  totalCount+=1\n",
        "print(\"Accuracy %\",(patched/totalCount)*100)\n"
      ],
      "execution_count": null,
      "outputs": []
    },
    {
      "cell_type": "code",
      "metadata": {
        "id": "qnQVJ6bZoycd"
      },
      "source": [
        "test_path='/content/gdrive/MyDrive/customTest/non_patched'\n",
        "totalCount2=0;\n",
        "non_patched=0\n",
        "for i in os.listdir(test_path):\n",
        "  img=image.load_img(test_path+'//'+i,target_size=(299,299))\n",
        "  plt.imshow(img)\n",
        "  plt.show()\n",
        "  x=image.img_to_array(img)\n",
        "  x=np.expand_dims(x,axis=0)\n",
        "  images=np.vstack([x])\n",
        "  vl=model.predict(images)\n",
        "  if(vl==0):\n",
        "    non_patched+=1\n",
        "    print(\"non_patched\")\n",
        "  else:\n",
        "    print(\"patched\")\n",
        "  totalCount2+=1\n",
        "print(\"Accuracy %\",(non_patched/totalCount)*100)"
      ],
      "execution_count": null,
      "outputs": []
    }
  ]
}